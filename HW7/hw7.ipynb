{
 "cells": [
  {
   "cell_type": "code",
   "execution_count": 1,
   "metadata": {},
   "outputs": [],
   "source": [
    "import os\n",
    "import pandas as pd\n",
    "from collections import Counter, defaultdict\n",
    "import dateparser\n",
    "from natasha import (\n",
    "    Segmenter,\n",
    "    MorphVocab,\n",
    "    \n",
    "    NewsEmbedding,\n",
    "    NewsMorphTagger,\n",
    "    NewsSyntaxParser,\n",
    "    NewsNERTagger,\n",
    "    \n",
    "    PER,\n",
    "    NamesExtractor,\n",
    "    DatesExtractor,\n",
    "    MoneyExtractor,\n",
    "    AddrExtractor,\n",
    "\n",
    "    Doc\n",
    ")"
   ]
  },
  {
   "cell_type": "code",
   "execution_count": 2,
   "metadata": {},
   "outputs": [],
   "source": [
    "path = '/home/michael/Documents/Python_practice/vadim_course/Parse/articles_2019-2020/articles/'\n",
    "files = os.listdir(path)"
   ]
  },
  {
   "cell_type": "code",
   "execution_count": 3,
   "metadata": {},
   "outputs": [],
   "source": [
    "df1= pd.read_csv(path + files[0], names = \\\n",
    "                 ['Link', 'Headline', 'Date', 'Tags', 'Number of comments', 'Author', 'Text'])\n",
    "df2 = pd.read_csv(path + files[1])\n",
    "df3 = pd.read_csv(path + files[2])"
   ]
  },
  {
   "cell_type": "code",
   "execution_count": 4,
   "metadata": {},
   "outputs": [],
   "source": [
    "df = pd.concat([df1, df2, df3], ignore_index=True)"
   ]
  },
  {
   "cell_type": "code",
   "execution_count": 7,
   "metadata": {},
   "outputs": [
    {
     "name": "stdout",
     "output_type": "stream",
     "text": [
      "<class 'pandas.core.frame.DataFrame'>\n",
      "RangeIndex: 28249 entries, 0 to 28248\n",
      "Data columns (total 7 columns):\n",
      " #   Column              Non-Null Count  Dtype \n",
      "---  ------              --------------  ----- \n",
      " 0   Link                28249 non-null  object\n",
      " 1   Headline            28249 non-null  object\n",
      " 2   Date                28249 non-null  object\n",
      " 3   Tags                28249 non-null  object\n",
      " 4   Number of comments  28249 non-null  int64 \n",
      " 5   Author              28249 non-null  object\n",
      " 6   Text                28249 non-null  object\n",
      "dtypes: int64(1), object(6)\n",
      "memory usage: 1.5+ MB\n"
     ]
    }
   ],
   "source": [
    "df.info()"
   ]
  },
  {
   "cell_type": "code",
   "execution_count": null,
   "metadata": {},
   "outputs": [],
   "source": [
    "from ast import literal_eval\n",
    "df.Tags =  [literal_eval(row_tag) for row_tag in df.Tags]"
   ]
  },
  {
   "cell_type": "code",
   "execution_count": 30,
   "metadata": {},
   "outputs": [],
   "source": [
    "df['Date'] = df.Date.apply(lambda x: dateparser.parse(x, languages=['ru'], date_formats=['%d %B %H %M']))"
   ]
  },
  {
   "cell_type": "code",
   "execution_count": 20,
   "metadata": {},
   "outputs": [],
   "source": [
    "article = df.iloc[0].Text\n",
    "\n",
    "emb = NewsEmbedding()\n",
    "ner_tagger = NewsNERTagger(emb)\n",
    "\n",
    "segmenter = Segmenter() #обёртка Razdel\n",
    "morph_tagger = NewsMorphTagger(emb)\n",
    "syntax_parser = NewsSyntaxParser(emb)\n",
    "\n",
    "doc_article = Doc(article)\n",
    "\n",
    "doc_article.segment(segmenter)\n",
    "doc_article.tag_morph(morph_tagger)\n",
    "doc_article.parse_syntax(syntax_parser)\n",
    "doc_article.tag_ner(ner_tagger)\n"
   ]
  },
  {
   "cell_type": "code",
   "execution_count": 71,
   "metadata": {},
   "outputs": [],
   "source": [
    "def ner_article(x):\n",
    "    article = x\n",
    "    doc_article = Doc(article)\n",
    "\n",
    "    doc_article.segment(segmenter)\n",
    "    doc_article.tag_morph(morph_tagger)\n",
    "    doc_article.parse_syntax(syntax_parser)\n",
    "    doc_article.tag_ner(ner_tagger)\n",
    "    ner = defaultdict(list)\n",
    "    for ne in doc_article.spans:\n",
    "        ner[ne.type].append(ne.text)\n",
    "    return dict(ner)\n"
   ]
  },
  {
   "cell_type": "code",
   "execution_count": 73,
   "metadata": {},
   "outputs": [],
   "source": [
    "df['Named_entity'] = df.Text.apply(lambda x: ner_article(x) )"
   ]
  },
  {
   "cell_type": "code",
   "execution_count": 72,
   "metadata": {},
   "outputs": [
    {
     "data": {
      "text/plain": [
       "{'ORG': ['UFC', 'Instagram', 'Parimatch Russia', 'UFC', 'UFC'],\n",
       " 'PER': ['Конор Макгрегор',\n",
       "  'Париматч',\n",
       "  'Хабиба Нурмагомедова',\n",
       "  'Джастином Гейджи',\n",
       "  'Хабиб',\n",
       "  'Гейджи',\n",
       "  'Хабиба',\n",
       "  'Хабиб',\n",
       "  'Гейджи',\n",
       "  'Гейджи',\n",
       "  'Хабиб',\n",
       "  'Хабиб',\n",
       "  'Гейджи',\n",
       "  'Макгрегор',\n",
       "  'Гейджи',\n",
       "  'Джикия',\n",
       "  'Хабибу',\n",
       "  'Хабиба',\n",
       "  'Гейджи',\n",
       "  'Хабиба Нурмагомедова',\n",
       "  'Хабиб',\n",
       "  'Гейджи'],\n",
       " 'LOC': ['Абу-Даби']}"
      ]
     },
     "execution_count": 72,
     "metadata": {},
     "output_type": "execute_result"
    }
   ],
   "source": [
    "ner_article(df.iloc[0].Text)"
   ]
  },
  {
   "cell_type": "code",
   "execution_count": 74,
   "metadata": {},
   "outputs": [
    {
     "data": {
      "text/html": [
       "<div>\n",
       "<style scoped>\n",
       "    .dataframe tbody tr th:only-of-type {\n",
       "        vertical-align: middle;\n",
       "    }\n",
       "\n",
       "    .dataframe tbody tr th {\n",
       "        vertical-align: top;\n",
       "    }\n",
       "\n",
       "    .dataframe thead th {\n",
       "        text-align: right;\n",
       "    }\n",
       "</style>\n",
       "<table border=\"1\" class=\"dataframe\">\n",
       "  <thead>\n",
       "    <tr style=\"text-align: right;\">\n",
       "      <th></th>\n",
       "      <th>Link</th>\n",
       "      <th>Headline</th>\n",
       "      <th>Date</th>\n",
       "      <th>Tags</th>\n",
       "      <th>Number of comments</th>\n",
       "      <th>Author</th>\n",
       "      <th>Text</th>\n",
       "      <th>Named_entity</th>\n",
       "    </tr>\n",
       "  </thead>\n",
       "  <tbody>\n",
       "    <tr>\n",
       "      <th>0</th>\n",
       "      <td>https://www.sports.ru/boxing/1090274326-konor-...</td>\n",
       "      <td>Конор: «Хабиб скорее всего победит, но если Г...</td>\n",
       "      <td>2020-10-24 12:46:00</td>\n",
       "      <td>['UFC', 'MMA', 'легкий вес (MMA)', 'Хабиб Нурм...</td>\n",
       "      <td>62</td>\n",
       "      <td>Даша Смит</td>\n",
       "      <td>Бывший чемпион UFC в двух весовых категориях К...</td>\n",
       "      <td>{'ORG': ['UFC', 'Instagram', 'Parimatch Russia...</td>\n",
       "    </tr>\n",
       "    <tr>\n",
       "      <th>1</th>\n",
       "      <td>https://www.sports.ru/kazakhstan/1090274341-da...</td>\n",
       "      <td>Даиров покинет «Кайрат». Его не устраивает от...</td>\n",
       "      <td>2020-10-24 12:24:00</td>\n",
       "      <td>['Кайрат', 'Окжетпес', 'Нурлан Даиров', 'Алекс...</td>\n",
       "      <td>0</td>\n",
       "      <td>Сейл Кожатай</td>\n",
       "      <td>25-летний защитник «Кайрата» Нурлан Даиров нам...</td>\n",
       "      <td>{'ORG': ['Кайрата', 'Жетысу', 'КПЛ', 'Окжетпес...</td>\n",
       "    </tr>\n",
       "    <tr>\n",
       "      <th>2</th>\n",
       "      <td>https://www.sports.ru/tennis/1090274384-arina-...</td>\n",
       "      <td>Арина Соболенко: «Мне просто хотелось взять х...</td>\n",
       "      <td>2020-10-24 13:02:00</td>\n",
       "      <td>['WTA', 'Сара Соррибес-Тормо', 'Арина Соболенк...</td>\n",
       "      <td>4</td>\n",
       "      <td>Tennisonoff</td>\n",
       "      <td>12-я ракетка мира Арина Соболенко прокомментир...</td>\n",
       "      <td>{'PER': ['Арина Соболенко', 'Сарой Соррибес-То...</td>\n",
       "    </tr>\n",
       "    <tr>\n",
       "      <th>3</th>\n",
       "      <td>https://www.sports.ru/hockey/1090274437-andrej...</td>\n",
       "      <td>Андрей Разин: «Завести соцсети сподвигло то с...</td>\n",
       "      <td>2020-10-24 12:35:00</td>\n",
       "      <td>['Северсталь', 'болельщики', 'КХЛ', 'интернет'...</td>\n",
       "      <td>0</td>\n",
       "      <td>Александр Балабанов</td>\n",
       "      <td>Главный тренер «Северстали» Андрей Разин проко...</td>\n",
       "      <td>{'ORG': ['Северстали', 'Instagram'], 'PER': ['...</td>\n",
       "    </tr>\n",
       "    <tr>\n",
       "      <th>4</th>\n",
       "      <td>https://www.sports.ru/basketball/1090274452-ra...</td>\n",
       "      <td>Райли намекнул, что «Майами» хочет сохранить ...</td>\n",
       "      <td>2020-10-24 12:48:00</td>\n",
       "      <td>['Майами', 'Пэт Райли', 'НБА', 'Горан Драгич',...</td>\n",
       "      <td>10</td>\n",
       "      <td>Валерий Левкин</td>\n",
       "      <td>Президент «Майами» Пэт Райли во время общения ...</td>\n",
       "      <td>{'ORG': ['Майами', 'Лейкерс', 'Клипперс', 'Уор...</td>\n",
       "    </tr>\n",
       "  </tbody>\n",
       "</table>\n",
       "</div>"
      ],
      "text/plain": [
       "                                                Link  \\\n",
       "0  https://www.sports.ru/boxing/1090274326-konor-...   \n",
       "1  https://www.sports.ru/kazakhstan/1090274341-da...   \n",
       "2  https://www.sports.ru/tennis/1090274384-arina-...   \n",
       "3  https://www.sports.ru/hockey/1090274437-andrej...   \n",
       "4  https://www.sports.ru/basketball/1090274452-ra...   \n",
       "\n",
       "                                            Headline                Date  \\\n",
       "0   Конор: «Хабиб скорее всего победит, но если Г... 2020-10-24 12:46:00   \n",
       "1   Даиров покинет «Кайрат». Его не устраивает от... 2020-10-24 12:24:00   \n",
       "2   Арина Соболенко: «Мне просто хотелось взять х... 2020-10-24 13:02:00   \n",
       "3   Андрей Разин: «Завести соцсети сподвигло то с... 2020-10-24 12:35:00   \n",
       "4   Райли намекнул, что «Майами» хочет сохранить ... 2020-10-24 12:48:00   \n",
       "\n",
       "                                                Tags  Number of comments  \\\n",
       "0  ['UFC', 'MMA', 'легкий вес (MMA)', 'Хабиб Нурм...                  62   \n",
       "1  ['Кайрат', 'Окжетпес', 'Нурлан Даиров', 'Алекс...                   0   \n",
       "2  ['WTA', 'Сара Соррибес-Тормо', 'Арина Соболенк...                   4   \n",
       "3  ['Северсталь', 'болельщики', 'КХЛ', 'интернет'...                   0   \n",
       "4  ['Майами', 'Пэт Райли', 'НБА', 'Горан Драгич',...                  10   \n",
       "\n",
       "                  Author                                               Text  \\\n",
       "0             Даша Смит   Бывший чемпион UFC в двух весовых категориях К...   \n",
       "1          Сейл Кожатай   25-летний защитник «Кайрата» Нурлан Даиров нам...   \n",
       "2           Tennisonoff   12-я ракетка мира Арина Соболенко прокомментир...   \n",
       "3   Александр Балабанов   Главный тренер «Северстали» Андрей Разин проко...   \n",
       "4        Валерий Левкин   Президент «Майами» Пэт Райли во время общения ...   \n",
       "\n",
       "                                        Named_entity  \n",
       "0  {'ORG': ['UFC', 'Instagram', 'Parimatch Russia...  \n",
       "1  {'ORG': ['Кайрата', 'Жетысу', 'КПЛ', 'Окжетпес...  \n",
       "2  {'PER': ['Арина Соболенко', 'Сарой Соррибес-То...  \n",
       "3  {'ORG': ['Северстали', 'Instagram'], 'PER': ['...  \n",
       "4  {'ORG': ['Майами', 'Лейкерс', 'Клипперс', 'Уор...  "
      ]
     },
     "execution_count": 74,
     "metadata": {},
     "output_type": "execute_result"
    }
   ],
   "source": [
    "df.head()"
   ]
  },
  {
   "cell_type": "code",
   "execution_count": 98,
   "metadata": {},
   "outputs": [],
   "source": [
    "c = Counter()\n",
    "row_counter = df.Tags.apply(lambda x: Counter(x)).sum()"
   ]
  },
  {
   "cell_type": "code",
   "execution_count": 138,
   "metadata": {},
   "outputs": [
    {
     "name": "stdout",
     "output_type": "stream",
     "text": [
      "For tag Футбол 10 most common named entities are ['РПЛ', 'России', 'ЦСКА', 'Зенит', 'Спартак', 'Динамо', 'Зенита', 'Спартака', 'Sports.ru', 'Челси']\n"
     ]
    }
   ],
   "source": [
    "# Change number in first line to see named entities for more tags\n",
    "\n",
    "for tag, _ in row_counter.most_common(1):\n",
    "    df_tag  = df[df.Tags.apply(lambda x: True in pd.Series(x).isin([tag]).values)]\n",
    "    l = []\n",
    "\n",
    "    for x in df_tag.Named_entity:\n",
    "        for v in x.values():\n",
    "            for z in v:\n",
    "                l.append(z)\n",
    "    print(f'For tag {tag} 10 most common named entities are {[ ne[0] for ne in Counter(l).most_common(10)]}')"
   ]
  },
  {
   "cell_type": "code",
   "execution_count": null,
   "metadata": {},
   "outputs": [],
   "source": []
  }
 ],
 "metadata": {
  "kernelspec": {
   "display_name": "Python 3",
   "language": "python",
   "name": "python3"
  },
  "language_info": {
   "codemirror_mode": {
    "name": "ipython",
    "version": 3
   },
   "file_extension": ".py",
   "mimetype": "text/x-python",
   "name": "python",
   "nbconvert_exporter": "python",
   "pygments_lexer": "ipython3",
   "version": "3.6.9"
  }
 },
 "nbformat": 4,
 "nbformat_minor": 4
}
